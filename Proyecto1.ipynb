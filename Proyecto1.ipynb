{
  "cells": [
    {
      "cell_type": "markdown",
      "metadata": {
        "colab_type": "text",
        "id": "view-in-github"
      },
      "source": [
        "<a href=\"https://colab.research.google.com/github/DiegoOrtizRuiz/Proyectos-MOS/blob/main/Proyecto1.ipynb\" target=\"_parent\"><img src=\"https://colab.research.google.com/assets/colab-badge.svg\" alt=\"Open In Colab\"/></a>"
      ]
    },
    {
      "cell_type": "markdown",
      "metadata": {
        "id": "zw_vemtzLi4Y"
      },
      "source": [
        "<div align=\"center\">\n",
        "\n",
        "**Proyecto 1**\n",
        "\n",
        "**Optimización en logística para la empresa LogistiCo**\n",
        "\n",
        "**Presentado por:**\n",
        "\n",
        "Miguel Florez Gutierrez - 202317266 - m.florezg2@uniandes.edu.co\n",
        "\n",
        "Diego Fernando Ortiz Ruiz - 201720095 - df.ortizr1@uniandes.edu.co\n",
        "\n",
        "Manuel Santiago Prieto Hernándes - 2022226947 - m.prietoh@uniandes.edu.co\n",
        "\n",
        "</div>"
      ]
    },
    {
      "cell_type": "markdown",
      "metadata": {
        "id": "prCSrsK-MlaE"
      },
      "source": [
        "# **Parte 1. Formulación Base Común**"
      ]
    },
    {
      "cell_type": "markdown",
      "metadata": {
        "id": "r0Zym7teNFtX"
      },
      "source": [
        "### **Paso 1. Análisis del Problema Fundamental**"
      ]
    },
    {
      "cell_type": "markdown",
      "metadata": {
        "id": "mSQ4SiUjNOAl"
      },
      "source": [
        "El problema fundamental que se aborda en este proyecto es la optimización de rutas multi-vehículo para atender un conjunto de demandas distribuidas geográficamente desde uno o varios centros de distribución, minimizando el costo operativo total sujeto a restricciones físicas y operativas. Los elementos esenciales que componen este problema son: primero, un conjunto de nodos, que se entienden como los centros de distribución y clientes, conectados por una red con distancias o tiempos de viaje; segundo, una flota de vehículos con capacidades y autonomías limitadas; tercero, demandas de envío en cada cliente; cuarto, costos asociados a recorridos, uso de vehículo y servicios auxiliares; y quinto restricciones operativas, como capacidad, alcance/autonomía, balance de flujo, ventanas de tiempo y compatibilidad vehículo-zona. La abstracción del problema es un Vehicle Routing Problem (VRP) con posibles extensiones (vehículos heterogéneos, múltiples depósitos, límites de autonomía y restricciones urbanas). Esta abstracción es suficiente y necesaria para capturar las decisiones críticas de asignación de vehículos a rutas, secuenciación de paradas y asignación de carga, y constituye la base sobre la que se pueden añadir las particularidades urbanas (congestión, acceso por tipo de vehículo, múltiples centros, etc.)."
      ]
    },
    {
      "cell_type": "markdown",
      "metadata": {
        "id": "JdRNmFfSS4B1"
      },
      "source": [
        "### **Paso 2. Formulación Matemática Base**"
      ]
    },
    {
      "cell_type": "markdown",
      "metadata": {
        "id": "vhgxlXh3S-oh"
      },
      "source": [
        "#### **Conjuntos Fundamentales**"
      ]
    },
    {
      "cell_type": "markdown",
      "metadata": {
        "id": "VvNwSnukXpyM"
      },
      "source": [
        "* $N = \\{ 1, 2, 3, ..., n\\}$: Conjunto de nodos\n",
        "* $C = N $ \\ $\\{0\\}$: Conjunto de clientes\n",
        "* $V = \\{1, 2, ..., m\\}$: Conjunto de vehículos disponibles\n",
        "* $A = \\{(i,j)∈N×N ∣ i \\neq j\\}$"
      ]
    },
    {
      "cell_type": "markdown",
      "metadata": {
        "id": "sDRoKZ2VYw0U"
      },
      "source": [
        "#### **Parámetros Esenciales**"
      ]
    },
    {
      "cell_type": "markdown",
      "metadata": {
        "id": "jsTVmYMAY4c7"
      },
      "source": [
        "* $d_{ij}$: Distancia entre los nodos $i$ y $j$.\n",
        "* $q_i$: Demanda del cliente $i$\n",
        "* $Q_v$: Capacidad máxima del vehículo $v$.\n",
        "* $A_v$: Autonomia máxima del vehículo $v$.\n",
        "* $R_v$: Rendimiento de combustible del vehículo $v$.\n",
        "* $C_t$: Costo de transporte por kilómetro recorrido\n",
        "* $C_m$: Costo de mantenimiento por kilómetro recorrido\n",
        "* $P_f$: Precio del combustible\n",
        "* $C_o$: Costo operativo fijo diario por vehículo."
      ]
    },
    {
      "cell_type": "markdown",
      "metadata": {
        "id": "T6uql9Lxa6Xr"
      },
      "source": [
        "#### **Variables de Decisión Principales**"
      ]
    },
    {
      "cell_type": "markdown",
      "metadata": {
        "id": "UNY_avKlbktn"
      },
      "source": [
        "* $x_{ijv}$: es de tipo binaria, donde 1 es si el vehículo $v$ viaja del nodo $i$ al nodo $j$; 0 en otro caso.\n",
        "* $y_{iv}$: es de tipo binaria, donde 1 es si el vehículo $v$ atiende al cliente $i$; 0 en otro caso.\n",
        "* $δ_v$: es de tipo binaria, 1 si el vehículo\n",
        "$v$ es utilizado en la operación (sale del centro de distribución); 0 en otro caso.\n",
        "* $l_{iv}$: es continua y representa la carga transportada por el vehículo $v$ al salir del nodo $i$."
      ]
    },
    {
      "cell_type": "markdown",
      "metadata": {
        "id": "aAELF3TpdkW1"
      },
      "source": [
        "#### **Restricciones Básicas**"
      ]
    },
    {
      "cell_type": "markdown",
      "metadata": {
        "id": "l2qYyLNAdoKK"
      },
      "source": [
        "* **Asignación de clientes**\n",
        "\n",
        "  $ \\begin{aligned}\n",
        "  \\sum_{v \\in V} \\sum_{j \\in N} x_{ijv}=1 \\ \\\n",
        "  \\forall i \\in C, j \\neq i\n",
        "  \\end{aligned}$\n",
        "\n",
        "Para que cada cliente sea atendido exactamente una vez.\n",
        "\n",
        "* **Conservación de flujo para cada vehículo**\n",
        "\n",
        "  $ \\begin{aligned}\n",
        "  \\sum_{j \\in N} x_{ijv}= \\sum_{j \\in N} x_{jiv} \\ \\ \\forall i \\in N, \\forall v \\in V, j \\neq i\n",
        "  \\end{aligned}$\n",
        "\n",
        "Para garantizar que los vehículos que llegan a un nodo también salgan de él.\n",
        "\n",
        "* **Salida y retorno al depósito**\n",
        "\n",
        "  $ \\begin{aligned}\n",
        "  \\sum_{j \\in N} x_{0jv} = δ_v \\ \\ \\forall v \\in V, j \\neq 0 \\\\\n",
        "  \\sum_{i \\in N} x_{i0v} = δ_v \\ \\ \\forall v \\in V, i \\neq 0\n",
        "  \\end{aligned}$\n",
        "\n",
        "* **Capacidad máxima del vehículo**\n",
        "\n",
        "  $ \\begin{aligned}\n",
        "  \\sum_{i \\in C} q_{i} y_{iv} \\le Q_v \\ \\ \\forall v \\in V\n",
        "  \\end{aligned}$\n",
        "\n",
        "* **Autonomía del vehículo**\n",
        "\n",
        "  $ \\begin{aligned}\n",
        "  \\sum_{i \\in N} \\sum_{j \\in N, i \\neq j} d_{ij} x_{ijv} \\le A_v \\ \\ \\forall v \\in V\n",
        "  \\end{aligned}$\n",
        "\n",
        "* **Consistencia de carga transportada**\n",
        "\n",
        "  $ \\begin{aligned}\n",
        "  l_{jv} \\ge l_{iv} + q_j - Q_v(1-x_{ijv}) \\ \\ \\forall i,j \\in N, i\\neq j, \\forall v \\in V\n",
        "  \\end{aligned}$"
      ]
    },
    {
      "cell_type": "markdown",
      "metadata": {
        "id": "-IdhqUaaiavl"
      },
      "source": [
        "#### **Función Objetivo Base**"
      ]
    },
    {
      "cell_type": "markdown",
      "metadata": {
        "id": "dlrRI5LiihV7"
      },
      "source": [
        " $ \\begin{aligned}\n",
        "  min \\sum_{v \\in V} \\sum_{i \\in N} \\sum_{j \\in N} (Ct + Cm + \\frac{P_f}{R_v}) \\ \\ d_{ij} x_{ijv} + \\sum_{v \\in V} C_o δ_v  \\ \\ , \\ \\  i \\neq j, \\ δ_v = 1 \\  si \\ \\sum_{j \\in N} x_{0jv} > 0 \\end{aligned}$ es decir, si el vehículo $v$ realiza al menos una ruta."
      ]
    },
    {
      "cell_type": "markdown",
      "metadata": {
        "id": "VPYtEgG_mxLp"
      },
      "source": [
        "### **Paso 3. Validación de la Formulación Base**"
      ]
    },
    {
      "cell_type": "markdown",
      "metadata": {
        "id": "04BTlNoZmzz_"
      },
      "source": [
        "Para la validación de la formulación se utilizara un único centro de distribución (CD0), 3 clientes (C1, C2, C3) y 2 vehiculos (V1 y V2); dejando los conjuntos de la siguiente forma:\n",
        "\n",
        "$ N=\\{0,1,2,3\\},\\ C=\\{1,2,3\\},\\ V=\\{1,2\\}$\n",
        "\n",
        "Y los datos de demanda de clientes que se utilizaran son los siguentes:\n",
        "\n",
        "| Cliente | ( $q_i$ ) (kg) |\n",
        "| :-----: | :----------: |\n",
        "|    1    |      120     |\n",
        "|    2    |      80      |\n",
        "|    3    |      90      |\n",
        "\n",
        "Vehiculos:\n",
        "\n",
        "| Vehículo | Capacidad ( $Q_v$ ) (kg) | Autonomía ( $A_v$ ) (km) | Rendimiento ( $R_v$ ) (km/l) |\n",
        "| :------: | :--------------------: | :--------------------: | :------------------------: |\n",
        "|     1    |           200          |           300          |             10             |\n",
        "|     2    |           250          |           400          |              8             |\n",
        "\n",
        "Distancias:\n",
        "\n",
        "| De/A  |  0 |  1 |  2 |  3 |\n",
        "| :---- | -: | -: | -: | -: |\n",
        "| **0** |  - | 20 | 25 | 30 |\n",
        "| **1** | 20 |  - | 15 | 10 |\n",
        "| **2** | 25 | 15 |  - | 12 |\n",
        "| **3** | 30 | 10 | 12 |  - |\n",
        "\n",
        "Parámetros de Costos:\n",
        "\n",
        "| Parámetro | Descripción                    | Valor (COP) |\n",
        "| --------- | ------------------------------ | ----------- |\n",
        "| ( C_t )   | Costo por transporte (km)      | 3 000       |\n",
        "| ( C_m )   | Mantenimiento (km)             | 500         |\n",
        "| ( P_f )   | Precio del combustible (litro) | 12 000      |\n",
        "| ( C_o )   | Costo fijo por vehículo        | 50 000      |\n",
        "\n",
        "\n",
        "Para hacer la correcta validación se decidio implementar un código en pyomo que verifique el modelo base, empleando el solver GLPK:"
      ]
    },
    {
      "cell_type": "code",
      "execution_count": null,
      "metadata": {
        "colab": {
          "base_uri": "https://localhost:8080/"
        },
        "id": "RA0T9YpCs_Dw",
        "outputId": "69df652f-1afe-4935-c0de-b4d7aa0e6e2c"
      },
      "outputs": [
        {
          "name": "stdout",
          "output_type": "stream",
          "text": [
            "\n",
            "Costo total óptimo: 614,900 COP\n",
            "\n",
            "Rutas del vehículo 1:\n",
            "  0 -> 2\n",
            "  2 -> 3\n",
            "  3 -> 0\n",
            "\n",
            "Rutas del vehículo 2:\n",
            "  0 -> 1\n",
            "  1 -> 0\n"
          ]
        }
      ],
      "source": [
        "from pyomo.environ import *\n",
        "\n",
        "# Datos base\n",
        "N = [0, 1, 2, 3]\n",
        "C = [1, 2, 3]\n",
        "V = [1, 2]\n",
        "\n",
        "d = {\n",
        " (0,1):20,(0,2):25,(0,3):30,\n",
        " (1,0):20,(1,2):15,(1,3):10,\n",
        " (2,0):25,(2,1):15,(2,3):12,\n",
        " (3,0):30,(3,1):10,(3,2):12\n",
        "}\n",
        "\n",
        "Ct, Cm, Pf = 3000, 500, 12000\n",
        "Rv = {1:10, 2:8}\n",
        "Co = 50000\n",
        "Qv = {1:200, 2:250}\n",
        "Av = {1:300, 2:400}\n",
        "q  = {1:120, 2:80, 3:90}\n",
        "\n",
        "# Modelo\n",
        "model = ConcreteModel()\n",
        "model.v = Set(initialize=V)\n",
        "model.i = Set(initialize=N)\n",
        "model.j = Set(initialize=N)\n",
        "model.x = Var(V, N, N, within=Binary)\n",
        "model.delta = Var(V, within=Binary)\n",
        "model.l = Var(V, N, within=NonNegativeReals)\n",
        "\n",
        "# Restricciones\n",
        "\n",
        "# Cada cliente tiene exactamente una entrada\n",
        "def one_in_rule(m, i):\n",
        "    return sum(m.x[v,j,i] for v in V for j in N if j != i) == 1\n",
        "model.one_in = Constraint(C, rule=one_in_rule)\n",
        "\n",
        "# Cada cliente tiene exactamente una salida\n",
        "def one_out_rule(m, i):\n",
        "    return sum(m.x[v,i,j] for v in V for j in N if j != i) == 1\n",
        "model.one_out = Constraint(C, rule=one_out_rule)\n",
        "\n",
        "# Conservación de flujo por vehículo\n",
        "def flow_rule(m, v, i):\n",
        "    return sum(m.x[v,i,j] for j in N if j != i) - sum(m.x[v,j,i] for j in N if j != i) == 0\n",
        "model.flow = Constraint(V, N, rule=flow_rule)\n",
        "\n",
        "# Cada vehículo usado sale y retorna una vez del depósito\n",
        "def start_rule(m, v):\n",
        "    return sum(m.x[v,0,j] for j in N if j != 0) == m.delta[v]\n",
        "model.start = Constraint(V, rule=start_rule)\n",
        "\n",
        "def return_rule(m, v):\n",
        "    return sum(m.x[v,i,0] for i in N if i != 0) == m.delta[v]\n",
        "model.ret = Constraint(V, rule=return_rule)\n",
        "\n",
        "# Capacidad\n",
        "def capacity_rule(m, v):\n",
        "    return sum(q[i]*sum(m.x[v,i,j] for j in N if j != i) for i in C) <= Qv[v]\n",
        "model.cap = Constraint(V, rule=capacity_rule)\n",
        "\n",
        "# Autonomía\n",
        "def autonomy_rule(m, v):\n",
        "    return sum(d[i,j]*m.x[v,i,j] for i in N for j in N if i != j) <= Av[v]\n",
        "model.autonomy = Constraint(V, rule=autonomy_rule)\n",
        "\n",
        "# eliminar subrutas\n",
        "def load_balance_rule(m, v, i, j):\n",
        "    if i != j and i != 0 and j != 0:\n",
        "        return m.l[v,j] >= m.l[v,i] + q[j] - Qv[v]*(1 - m.x[v,i,j])\n",
        "    return Constraint.Skip\n",
        "model.load_balance = Constraint(V, N, N, rule=load_balance_rule)\n",
        "\n",
        "def load_limits_rule(m, v, i):\n",
        "    if i != 0:\n",
        "        return (q[i], m.l[v,i], Qv[v])\n",
        "    return Constraint.Skip\n",
        "model.load_limits = Constraint(V, N, rule=load_limits_rule)\n",
        "\n",
        "# Función objetivo\n",
        "def cost_rule(m):\n",
        "    return sum((Ct + Cm + Pf/Rv[v]) * d[i,j] * m.x[v,i,j]\n",
        "               for v in V for i in N for j in N if i != j) \\\n",
        "         + sum(Co * m.delta[v] for v in V)\n",
        "model.obj = Objective(rule=cost_rule, sense=minimize)\n",
        "\n",
        "\n",
        "\n",
        "# Resolver\n",
        "SolverFactory('glpk').solve(model, tee=False)\n",
        "print(f\"\\nCosto total óptimo: {value(model.obj):,.0f} COP\")\n",
        "\n",
        "# Mostrar resultados\n",
        "for v in V:\n",
        "    print(f\"\\nRutas del vehículo {v}:\")\n",
        "    for i in N:\n",
        "        for j in N:\n",
        "            if i != j and value(model.x[v,i,j]) > 0.5:\n",
        "                print(f\"  {i} -> {j}\")\n"
      ]
    },
    {
      "cell_type": "markdown",
      "metadata": {
        "id": "a3VDrhP9w4XP"
      },
      "source": [
        "Los resultados obtenidos muestran un costo operativo total óptimo de 614.900 COP, con las rutas resultantes: el vehículo 1 realiza el recorrido de 0, 2, 3 y regresa al nodo 0, mientras que el vehículo 2 atiende al cliente 1 con la ruta 0, 1, y regresando al origen 0. Este comportamiento confirma que la formulación captura correctamente los aspectos fundamentales del ruteo vehicular, ya que cada cliente es atendido exactamente una vez, los vehículos respetan sus capacidades y autonomías, y las rutas se inician y terminan en el depósito. Además, la distribución de clientes entre los vehículos refleja un equilibrio lógico en función de las capacidades y costos operativos, demostrando que el modelo base permite representar adecuadamente el proceso de planificación de rutas en un sistema logístico multi-vehículo."
      ]
    },
    {
      "cell_type": "markdown",
      "metadata": {
        "id": "7Xu-R_ugxfL2"
      },
      "source": [
        "# **Parte 2. Especialización del Proyecto**"
      ]
    },
    {
      "cell_type": "markdown",
      "metadata": {
        "id": "MTRlvjaux1R6"
      },
      "source": [
        "### **Paso 4. Análisis de Particularidades**"
      ]
    },
    {
      "cell_type": "markdown",
      "metadata": {
        "id": "BkgRCqIOzF23"
      },
      "source": [
        "La especialización del proyecto permite evidenciar las siguientes diferencia a comparación del proyecto base: en entornos metropolitanos como Bogotá, donde opera LogistiCo, factores como la congestión vehicular, las restricciones de acceso, la existencia de múltiples centros de distribución y la alta densidad de clientes hacen necesario extender el modelo base para representar adecuadamente la realidad operativa.\n",
        "\n",
        "En comparación con la formulación base, que considera un único centro de distribución, capacidades fijas y rutas con libre conexión entre nodos, el contexto urbano requiere incorporar múltiples centros de distribución con capacidades limitadas de almacenamiento y decisiones de asignación de inventario a cada centro. Asimismo, deben introducirse restricciones de acceso por tipo de vehículo, ya que ciertas zonas del centro urbano limitan la circulación de camiones pesados, mientras que otras solo permiten vehículos ligeros o eléctricos.\n",
        "\n",
        "Otra particularidad relevante es la congestión urbana, que afecta directamente los tiempos de recorrido y puede modelarse mediante parámetros de velocidad promedio variable o factores de penalización en el costo por kilómetro. Además, el modelo debe permitir la planificación de rutas multi-parada, en las que un mismo vehículo atiende varios clientes durante un mismo viaje, maximizando el aprovechamiento de su capacidad y reduciendo los desplazamientos vacíos.\n",
        "\n",
        "En términos de formulación matemática, estas particularidades implican la inclusión de nuevos conjuntos y parámetros, que pueden ser los siguientes:\n",
        "\n",
        "Un conjunto de centros de distribución ($D$) con capacidades de almacenamiento y ubicación geográfica;\n",
        "\n",
        "Un conjunto de tipos de vehículos ($T$) con restricciones de acceso y rendimientos diferenciados;\n",
        "\n",
        "Parámetros adicionales como los tiempos de viaje ajustados por congestión ($t_{ij}$) y los costos urbanos específicos ($Ft$, $Cm_{(u)}$, $C_e$).\n",
        "\n",
        "Finalmente, estas extensiones no solo buscan ajustar el modelo a un entorno más realista, sino también capturar decisiones estratégicas que son críticas para la logística urbana, como la selección del centro de distribución óptimo para cada cliente, la elección del tipo de vehículo adecuado y la priorización de rutas que minimicen la exposición al tráfico o las zonas restringidas."
      ]
    },
    {
      "cell_type": "markdown",
      "metadata": {},
      "source": [
        "### **Paso 5. Extensión de la Formulación**"
      ]
    },
    {
      "cell_type": "markdown",
      "metadata": {},
      "source": [
        "\n",
        "\n",
        "\n",
        "#### **Conjuntos Específicos**\n",
        "\n",
        "Se introducen los siguientes conjuntos adicionales para modelar la operación multi-depósito y la complejidad urbana:\n",
        "\n",
        "| Símbolo | Descripción |\n",
        "|----------|-------------|\n",
        "| $ \\mathcal{D} $ | Conjunto de centros de distribución (depósitos). |\n",
        "| $ \\mathcal{C} $ | Conjunto de clientes o zonas de entrega. |\n",
        "| $ \\mathcal{V} $ | Conjunto de vehículos disponibles. |\n",
        "| $ \\mathcal{T} $ | Conjunto de tipos de vehículo (liviano, mediano, pesado). |\n",
        "| $ \\mathcal{A} \\subseteq (\\mathcal{D}\\cup\\mathcal{C}) \\times (\\mathcal{C}\\cup\\mathcal{D}) $ | Conjunto de arcos factibles (rutas posibles). |\n",
        "\n",
        "Cada vehículo $ v \\in \\mathcal{V} $ pertenece a un tipo $ t(v) \\in \\mathcal{T} $.\n",
        "\n",
        "\n",
        "#### **Parámetros Especializados**\n",
        "\n",
        "Los parámetros del modelo urbano extienden los de la formulación base para reflejar condiciones reales de Bogotá:\n",
        "\n",
        "| Parámetro | Descripción |\n",
        "|------------|-------------|\n",
        "| $ d_i $ | Demanda del cliente $ i $ (kg o unidades). |\n",
        "| $ Q_v $ | Capacidad máxima del vehículo $ v $. |\n",
        "| $ R_v $ | Autonomía máxima del vehículo $ v $ (km). |\n",
        "| $ dist_{ij} $ | Distancia vial entre los nodos $ i $ y $ j $ (km). |\n",
        "| $ tt_{ij}^{\\tau} $ | Tiempo de viaje entre $ i $ y $ j $ en la franja horaria $ \\tau $, considerando congestión. |\n",
        "| $ cap_d $ | Capacidad máxima del centro de distribución $ d $. |\n",
        "| $ access_{i,t} $ | 1 si el tipo de vehículo $t$ puede acceder a la zona del cliente $i$; 0 en caso contrario. |\n",
        "| $ c^{km}_t $ | Costo operativo por kilómetro para vehículos del tipo $t$. |\n",
        "| $ c^{veh}_v $ | Costo fijo diario por uso del vehículo $v$. |\n",
        "| $ p_f $ | Precio del combustible (COP/litro). |\n",
        "| $ r_t $ | Rendimiento (km/litro) del tipo $t$. |\n",
        "| $ penalty^{late} $ | Penalización económica por entrega tardía. |\n",
        "\n",
        "\n",
        "#### **Variables Auxiliares**\n",
        "\n",
        "Para capturar los comportamientos específicos del entorno urbano se definen las siguientes variables de decisión y auxiliares:\n",
        "\n",
        "| Variable | Descripción |\n",
        "|-----------|-------------|\n",
        "| $ x_{ijv} \\in \\{0,1\\} $ | 1 si el vehículo $v$ transita de $i$ a $j$. |\n",
        "| $ y_{vd} \\in \\{0,1\\} $ | 1 si el vehículo $v$ inicia y termina su ruta en el centro $d$. |\n",
        "| $ a_{id} \\in \\{0,1\\} $ | 1 si el cliente $i$ es asignado al centro $d$. |\n",
        "| $ l_{iv} \\ge 0 $ | Carga transportada por el vehículo $v$ al llegar al cliente $i$. |\n",
        "| $ T_{iv} \\ge 0 $ | Tiempo de llegada del vehículo $v$ al cliente $i$. |\n",
        "| $ z_i^{late} \\ge 0 $ | Tardanza en la entrega del cliente $i$. |\n",
        "\n",
        "Estas variables permiten modelar la asignación multi-depósito, la secuenciación temporal y las penalizaciones por demoras.\n",
        "\n",
        "\n",
        "#### **Restricciones Especializadas**\n",
        "\n",
        "* **Asignación de clientes a centros**\n",
        "\n",
        "  $ \\begin{aligned}\n",
        "  \\sum_{d\\in\\mathcal{D}} a_{id} = 1 \\quad \\forall i \\in \\mathcal{C}\n",
        "  \\end{aligned} $\n",
        "\n",
        "* **Capacidad de los centros de distribución**\n",
        "\n",
        "  $ \\begin{aligned}\n",
        "  \\sum_{i\\in\\mathcal{C}} d_i \\, a_{id} \\le cap_d \\quad \\forall d \\in \\mathcal{D}\n",
        "  \\end{aligned} $\n",
        "\n",
        "* **Inicio y fin de ruta en un único centro**\n",
        "\n",
        "  $ \\begin{aligned}\n",
        "  \\sum_{d\\in\\mathcal{D}} y_{vd} = 1 \\quad \\forall v \\in \\mathcal{V}\n",
        "  \\end{aligned} $\n",
        "\n",
        "* **Conservación del flujo vehicular**\n",
        "\n",
        "  $ \\begin{aligned}\n",
        "  \\sum_{j} x_{ijv} = \\sum_{j} x_{jiv} \\quad \\forall i \\in \\mathcal{C}, \\forall v\n",
        "  \\end{aligned} $\n",
        "\n",
        "* **Cobertura de clientes**\n",
        "\n",
        "  $ \\begin{aligned}\n",
        "  \\sum_{v\\in\\mathcal{V}} \\sum_{j} x_{ijv} = 1 \\quad \\forall i \\in \\mathcal{C}\n",
        "  \\end{aligned} $\n",
        "\n",
        "* **Capacidad de vehículos**\n",
        "\n",
        "  $ \\begin{aligned}\n",
        "  \\sum_{i} d_i \\sum_{j} x_{ijv} \\le Q_v \\quad \\forall v \\in \\mathcal{V}\n",
        "  \\end{aligned} $\n",
        "\n",
        "* **Restricciones de acceso urbano**\n",
        "\n",
        "  $ \\begin{aligned}\n",
        "  x_{ijv} \\le access_{j,t(v)} \\quad \\forall (i,j)\\in\\mathcal{A}, \\forall v\n",
        "  \\end{aligned} $\n",
        "\n",
        "* **Límites de autonomía**\n",
        "\n",
        "  $ \\begin{aligned}\n",
        "  \\sum_{(i,j)\\in\\mathcal{A}} dist_{ij} \\, x_{ijv} \\le R_v \\quad \\forall v\n",
        "  \\end{aligned} $\n",
        "\n",
        "* **Ventanas de tiempo y penalización por tardanza**\n",
        "\n",
        "  $ \\begin{aligned}\n",
        "  open_i \\le T_{iv} \\le close_i + z_i^{late} \\quad \\forall i,v\n",
        "  \\end{aligned} $\n",
        "\n",
        "  $ \\begin{aligned}\n",
        "  T_{jv} \\ge T_{iv} + s_i + tt_{ij}^{\\tau} - M(1-x_{ijv})\n",
        "  \\end{aligned} $\n",
        "\n",
        "\n",
        "#### **Función Objetivo Extendida**\n",
        "\n",
        "*Función objetivo (costo operativo total):*\n",
        "\n",
        "$ \\begin{aligned}\n",
        "\\min Z &= \\sum_{v\\in\\mathcal{V}} c^{veh}_v \\sum_{d\\in\\mathcal{D}} y_{vd} \\\\\n",
        "&\\quad + \\sum_{v\\in\\mathcal{V}}\\sum_{(i,j)\\in\\mathcal{A}} c^{km}_{t(v)} \\, dist_{ij} \\, x_{ijv} \\\\\n",
        "&\\quad + \\sum_{v\\in\\mathcal{V}}\\sum_{(i,j)\\in\\mathcal{A}} \\frac{p_f}{r_{t(v)}} \\, dist_{ij} \\, x_{ijv} \\\\\n",
        "&\\quad + \\sum_{i\\in\\mathcal{C}} penalty^{late} \\, z_i^{late}\n",
        "\\end{aligned} $\n",
        "\n"
      ]
    },
    {
      "cell_type": "markdown",
      "metadata": {},
      "source": [
        "### **Paso 6. Procesamiento de Datos Especificos**"
      ]
    },
    {
      "cell_type": "markdown",
      "metadata": {},
      "source": [
        "El presente paso describe el procedimiento seguido para generar los **parámetros específicos del modelo urbano** de *LogistiCo Bogotá*, integrando información real del contexto operativo y documentando todas las fuentes y métodos empleados.\n",
        "\n",
        "\n",
        "#### **Cálculo de Parámetros Específicos**\n",
        "\n",
        "Para representar con fidelidad las condiciones reales de la ciudad se elaboró un proceso sistemático de cálculo de **distancias reales**, **tiempos de viaje** y **ventanas de tiempo**.\n",
        "\n",
        "* **Red vial y distancias reales ($dist_{ij}$)**\n",
        "\n",
        "  La red vial de Bogotá se obtuvo a partir de **OpenStreetMap (OSM)**, descargada mediante la librería `osmnx`.\n",
        "  A través de **OSRM (Open Source Routing Machine)** se calcularon las distancias viales entre nodos (depósitos y clientes), generando una matriz cuadrada de distancias $dist_{ij}$ en kilómetros.\n",
        "  En los casos donde no existía conexión directa, se utilizó la ruta más corta topológicamente factible.\n",
        "\n",
        "* **Tiempos de viaje por franja horaria ($tt_{ij}^{\\tau}$)**\n",
        "\n",
        "  Los tiempos de viaje se calcularon a partir de las distancias OSRM y de los factores de congestión derivados del dataset público\n",
        "  *Velocidad promedio por corredor vial – Waze for Cities* (Datos Abiertos Bogotá, 2025).\n",
        "  Se definieron tres franjas horarias: mañana (7–9 h), mediodía (10–15 h) y tarde (17–19 h), ajustando:\n",
        "\n",
        "  $ \\begin{aligned}\n",
        "  tt_{ij}^{\\tau} = \\frac{dist_{ij}}{v_{ij}^{\\tau}}\n",
        "  \\end{aligned} $\n",
        "\n",
        "  donde $v_{ij}^{\\tau}$ corresponde a la velocidad promedio en la franja $\\tau$.\n",
        "  En tramos con valores atípicos se aplicó imputación mediante la mediana zonal.\n",
        "\n",
        "* **Ventanas de tiempo ($open_i$, $close_i$)**\n",
        "\n",
        "  Para cada cliente se fijaron intervalos de atención en función del tipo de zona (industrial, comercial o residencial), tomando como referencia los horarios de restricción de carga establecidos por la **Secretaría Distrital de Movilidad de Bogotá**.\n",
        "  Cuando no se disponía de información específica, se adoptó el rango **08:00–18:00 h**, consignado como supuesto operativo.\n",
        "\n",
        "\n",
        "#### **Integración de Datos del Contexto Operativo**\n",
        "\n",
        "Con el fin de reflejar los costos y limitaciones reales de la operación urbana, se integraron los siguientes parámetros:\n",
        "\n",
        "* **Precio de combustible ($p_f$)**\n",
        "  Se tomó el valor promedio mensual del diésel publicado por el **Ministerio de Minas y Energía de Colombia** para Bogotá (abril de 2025).\n",
        "  Este parámetro se empleó para calcular el costo por kilómetro:\n",
        "\n",
        "  $ \\begin{aligned}\n",
        "  c^{km}_t = \\frac{p_f}{r_t}\n",
        "  \\end{aligned} $\n",
        "\n",
        "  donde $r_t$ representa el rendimiento (km/litro) del tipo de vehículo $t$.\n",
        "\n",
        "* **Tarifas de peajes ($c^{toll}_{ij}$)**\n",
        "  Extraídas de la **Agencia Nacional de Infraestructura (ANI)**.\n",
        "  En la operación urbana, los peajes se consideraron nulos, dado que solo aplican a tramos interurbanos.\n",
        "\n",
        "* **Restricciones municipales de acceso ($access_{i,t}$)**\n",
        "  Basadas en el **Decreto 840 de 2019** y la cartografía oficial de zonas restringidas de carga.\n",
        "  Se construyó una matriz binaria de acceso donde `1` indica permiso y `0` prohibición por tipo de vehículo.\n",
        "\n",
        "* **Costos fijos y variables de operación**\n",
        "  Estimados conforme a referencias de la **Superintendencia de Transporte**, considerando mantenimiento (5 % del costo por km) y remuneración del conductor en función de la velocidad promedio urbana.\n",
        "\n",
        "\n",
        "#### **Fuentes de Información y Métodos de Cálculo**\n",
        "\n",
        "| Componente                                   | Fuente Oficial / API                                    | Método de Cálculo / Observaciones                                                           |\n",
        "| -------------------------------------------- | ------------------------------------------------------- | ------------------------------------------------------------------------------------------- |\n",
        "| **Red vial y distancias ($dist_{ij}$)**      | OpenStreetMap (OSM) + OSRM                              | Extracción de nodos con `osmnx` y cálculo de rutas mínimas (servicio *table* de OSRM).      |\n",
        "| **Tiempos de viaje ($tt_{ij}^{\\tau}$)**      | Waze for Cities – Datos Abiertos Bogotá                 | Promedios de velocidad por corredor → factores de congestión → cálculo de $tt_{ij}^{\\tau}$. |\n",
        "| **Ventanas de tiempo ($open_i$, $close_i$)** | Secretaría Distrital de Movilidad de Bogotá             | Horarios de restricción → intervalos de atención por zona.                                  |\n",
        "| **Precio de combustible ($p_f$)**            | Ministerio de Minas y Energía                           | Promedio mensual para Bogotá.                                                               |\n",
        "| **Peajes ($c^{toll}_{ij}$)**                 | Agencia Nacional de Infraestructura (ANI)               | Costos unitarios por tramo; se omiten dentro de la zona urbana.                             |\n",
        "| **Restricciones de acceso ($access_{i,t}$)** | Secretaría Distrital de Movilidad / Decreto 840 de 2019 | Clasificación binaria de acceso según tipo de vehículo.                                     |\n",
        "| **Costos operativos ($c^{km}_t$)**           | Superintendencia de Transporte                          | $c^{km}_t = (p_f / r_t) + mantenimiento + mano\\ de\\ obra$.                                  |\n",
        "\n",
        "\n",
        "\n",
        "\n"
      ]
    },
    {
      "cell_type": "markdown",
      "metadata": {
        "id": "OhYRkpESxrJN"
      },
      "source": [
        "# **Implementación y Análisis**"
      ]
    },
    {
      "cell_type": "markdown",
      "metadata": {},
      "source": [
        "### **Paso 7. Caso de Estudio Completo**"
      ]
    },
    {
      "cell_type": "markdown",
      "metadata": {},
      "source": [
        "#### Ver punto 7.pdf"
      ]
    },
    {
      "cell_type": "markdown",
      "metadata": {},
      "source": [
        "### **Paso 8. Análisis Crítico y Conclusiones**\n",
        "\n",
        "**Fortalezas.** El modelo especializado refleja bien la realidad urbana: usamos direcciones geográficas para estimar distancias y tiempos, incluimos ventanas de atención, tiempos de servicio, límites de capacidad y autonomía de cada vehículo, y reglas de acceso (por ejemplo, el cliente 3 solo puede ser atendido en moto). Con esto, los planes que produce no solo son baratos en términos de costo, sino que además son ejecutables en calle: llegan dentro de la ventana, respetan restricciones y consideran la congestión de la mañana.\n",
        "\n",
        "**Limitaciones.** Simplificamos varias cosas: las distancias provienen de una aproximación (no de una API vial real), la congestión se modela de forma promedio, y todo es determinista (demandas y tiempos sin variaciones). Tampoco modelamos turnos de conductores, múltiples depósitos ni costos ambientales. En resumen, el caso es realista pero aún “limpio” para poder verificarlo a mano.\n",
        "\n",
        "**Escalabilidad.** Este tipo de problema crece muy rápido en complejidad. Con pocas paradas el solver funciona bien; con decenas o cientos, conviene combinar el modelo con estrategias prácticas: heurísticas (búsqueda tabú, ALNS, reglas de ahorro), descomponer el problema en subrutas, agrupar clientes por zona/horario antes de optimizar y reutilizar buenas soluciones como punto de partida. Así se mantienen tiempos de cómputo razonables sin perder mucha calidad.\n",
        "\n",
        "**Mejoras futuras.** Cambiar las distancias y tiempos aproximados por matrices reales de una API de ruteo; ajustar la congestión por zonas y horas; permitir ventanas “blandas” con penalización; considerar incertidumbre (buffers o enfoque robusto); admitir múltiples depósitos y reabastecimiento/recarga; y agregar métricas de combustible y emisiones. Todo esto aumenta el valor operativo del plan.\n",
        "\n",
        "**Aprendizajes.** Construir el caso por fases fue clave: la versión base ayudó a entender lo esencial (distancia, capacidad, autonomía) y a validar cuentas a mano; al especializar vimos cómo ventanas, accesos y congestión cambian el orden de visita y pueden subir el costo, pero entregan planes realmente aplicables. Conclusión: el modelo especializado es más caro que el base, pero mucho más útil para operar en ciudad; para escalar, necesita mejores datos y técnicas de solución más inteligentes.\n"
      ]
    }
  ],
  "metadata": {
    "colab": {
      "include_colab_link": true,
      "provenance": [],
      "toc_visible": true
    },
    "kernelspec": {
      "display_name": "Python 3",
      "name": "python3"
    },
    "language_info": {
      "name": "python"
    }
  },
  "nbformat": 4,
  "nbformat_minor": 0
}
