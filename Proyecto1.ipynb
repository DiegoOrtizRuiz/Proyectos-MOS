{
  "nbformat": 4,
  "nbformat_minor": 0,
  "metadata": {
    "colab": {
      "provenance": [],
      "toc_visible": true,
      "include_colab_link": true
    },
    "kernelspec": {
      "name": "python3",
      "display_name": "Python 3"
    },
    "language_info": {
      "name": "python"
    }
  },
  "cells": [
    {
      "cell_type": "markdown",
      "metadata": {
        "id": "view-in-github",
        "colab_type": "text"
      },
      "source": [
        "<a href=\"https://colab.research.google.com/github/DiegoOrtizRuiz/Proyectos-MOS/blob/main/Proyecto1.ipynb\" target=\"_parent\"><img src=\"https://colab.research.google.com/assets/colab-badge.svg\" alt=\"Open In Colab\"/></a>"
      ]
    },
    {
      "cell_type": "markdown",
      "source": [
        "<div align=\"center\">\n",
        "\n",
        "**Proyecto 1**\n",
        "\n",
        "**Optimización en logística para la empresa LogistiCo**\n",
        "\n",
        "**Presentado por:**\n",
        "\n",
        "Miguel Florez Gutierrez - 202317266 - m.florezg2@uniandes.edu.co\n",
        "\n",
        "Diego Fernando Ortiz Ruiz - 201720095 - df.ortizr1@uniandes.edu.co\n",
        "\n",
        "Manuel Santiago Prieto Hernándes - 2022226947 - m.prietoh@uniandes.edu.co\n",
        "\n",
        "</div>"
      ],
      "metadata": {
        "id": "zw_vemtzLi4Y"
      }
    },
    {
      "cell_type": "markdown",
      "source": [
        "# **Parte 1. Formulación Base Común**"
      ],
      "metadata": {
        "id": "prCSrsK-MlaE"
      }
    },
    {
      "cell_type": "markdown",
      "source": [
        "## **Paso 1. Análisis del Problema Fundamental**"
      ],
      "metadata": {
        "id": "r0Zym7teNFtX"
      }
    },
    {
      "cell_type": "markdown",
      "source": [
        "El problema fundamental que se aborda en este proyecto es la optimización de rutas multi-vehículo para atender un conjunto de demandas distribuidas geográficamente desde uno o varios centros de distribución, minimizando el costo operativo total sujeto a restricciones físicas y operativas. Los elementos esenciales que componen este problema son: primero, un conjunto de nodos, que se entienden como los centros de distribución y clientes, conectados por una red con distancias o tiempos de viaje; segundo, una flota de vehículos con capacidades y autonomías limitadas; tercero, demandas de envío en cada cliente; cuarto, costos asociados a recorridos, uso de vehículo y servicios auxiliares; y quinto restricciones operativas, como capacidad, alcance/autonomía, balance de flujo, ventanas de tiempo y compatibilidad vehículo-zona. La abstracción del problema es un Vehicle Routing Problem (VRP) con posibles extensiones (vehículos heterogéneos, múltiples depósitos, límites de autonomía y restricciones urbanas). Esta abstracción es suficiente y necesaria para capturar las decisiones críticas de asignación de vehículos a rutas, secuenciación de paradas y asignación de carga, y constituye la base sobre la que se pueden añadir las particularidades urbanas (congestión, acceso por tipo de vehículo, múltiples centros, etc.)."
      ],
      "metadata": {
        "id": "mSQ4SiUjNOAl"
      }
    },
    {
      "cell_type": "markdown",
      "source": [
        "## **Formulación Matemática Base**"
      ],
      "metadata": {
        "id": "JdRNmFfSS4B1"
      }
    },
    {
      "cell_type": "markdown",
      "source": [
        "### **Conjuntos Fundamentales**"
      ],
      "metadata": {
        "id": "vhgxlXh3S-oh"
      }
    },
    {
      "cell_type": "markdown",
      "source": [
        "* $N = \\{ 1, 2, 3, ..., n\\}$: Conjunto de nodos\n",
        "* $C = N $ \\ $\\{0\\}$: Conjunto de clientes\n",
        "* $V = \\{1, 2, ..., m\\}$: Conjunto de vehículos disponibles\n",
        "* $A = \\{(i,j)∈N×N ∣ i \\neq j\\}$"
      ],
      "metadata": {
        "id": "VvNwSnukXpyM"
      }
    },
    {
      "cell_type": "markdown",
      "source": [
        "### **Parámetros Esenciales**"
      ],
      "metadata": {
        "id": "sDRoKZ2VYw0U"
      }
    },
    {
      "cell_type": "markdown",
      "source": [
        "* $d_{ij}$: Distancia entre los nodos $i$ y $j$.\n",
        "* $q_i$: Demanda del cliente $i$\n",
        "* $Q_v$: Capacidad máxima del vehículo $v$.\n",
        "* $A_v$: Autonomia máxima del vehículo $v$.\n",
        "* $R_v$: Rendimiento de combustible del vehículo $v$.\n",
        "* $C_t$: Costo de transporte por kilómetro recorrido\n",
        "* $C_m$: Costo de mantenimiento por kilómetro recorrido\n",
        "* $P_f$: Precio del combustible\n",
        "* $C_o$: Costo operativo fijo diario por vehículo."
      ],
      "metadata": {
        "id": "jsTVmYMAY4c7"
      }
    },
    {
      "cell_type": "markdown",
      "source": [
        "### **Variables de Decisión Principales**"
      ],
      "metadata": {
        "id": "T6uql9Lxa6Xr"
      }
    },
    {
      "cell_type": "markdown",
      "source": [
        "* $x_{ij}$: es de tipo binaria, donde 1 es si el vehículo $v$ viaja del nodo $i$ al nodo $j$; 0 en otro caso.\n",
        "* $y_{iv}$: es de tipo binaria, donde 1 es si el vehículo $v$ atiende al cliente $i$; 0 en otro caso.\n",
        "* $δ_v$: es de tipo binaria, 1 si el vehículo\n",
        "$v$ es utilizado en la operación (sale del centro de distribución); 0 en otro caso.\n",
        "* $l_{iv}$: es continua y representa la carga transportada por el vehículo $v$ al salir del nodo $i$."
      ],
      "metadata": {
        "id": "UNY_avKlbktn"
      }
    },
    {
      "cell_type": "markdown",
      "source": [
        "### **Restricciones Básicas**"
      ],
      "metadata": {
        "id": "aAELF3TpdkW1"
      }
    },
    {
      "cell_type": "markdown",
      "source": [
        "* **Asignación de clientes**\n",
        "\n",
        "  $ \\begin{aligned}\n",
        "  \\sum_{v \\in V} \\sum_{j \\in N} x_{ijv}=1 \\ \\\n",
        "  \\forall i \\in C, j \\neq i\n",
        "  \\end{aligned}$\n",
        "\n",
        "Para que cada cliente sea atendido exactamente una vez.\n",
        "\n",
        "* **Conservación de flujo para cada vehículo**\n",
        "\n",
        "  $ \\begin{aligned}\n",
        "  \\sum_{j \\in N} x_{ijv}= \\sum_{j \\in N} x_{jiv} \\ \\ \\forall i \\in N, \\forall v \\in V, j \\neq i\n",
        "  \\end{aligned}$\n",
        "\n",
        "Para garantizar que los vehículos que llegan a un nodo también salgan de él.\n",
        "\n",
        "* **Salida y retorno al depósito**\n",
        "\n",
        "  $ \\begin{aligned}\n",
        "  \\sum_{j \\in N} x_{0jv} = δ_v \\ \\ \\forall v \\in V, j \\neq 0 \\\\\n",
        "  \\sum_{i \\in N} x_{i0v} = δ_v \\ \\ \\forall v \\in V, i \\neq 0\n",
        "  \\end{aligned}$\n",
        "\n",
        "* **Capacidad máxima del vehículo**\n",
        "\n",
        "  $ \\begin{aligned}\n",
        "  \\sum_{i \\in C} q_{i} y_{iv} \\le Q_v \\ \\ \\forall v \\in V\n",
        "  \\end{aligned}$\n",
        "\n",
        "* **Autonomía del vehículo**\n",
        "\n",
        "  $ \\begin{aligned}\n",
        "  \\sum_{i \\in N} \\sum_{j \\in N, i \\neq j} d_{ij} x_{ijv} \\le A_v \\ \\ \\forall v \\in V\n",
        "  \\end{aligned}$\n",
        "\n",
        "* **Consistencia de carga transportada**\n",
        "\n",
        "  $ \\begin{aligned}\n",
        "  l_{jv} \\ge l_{iv} + q_j - Q_v(1-x_{ijv}) \\ \\ \\forall i,j \\in N, i\\neq j, \\forall v \\in V\n",
        "  \\end{aligned}$"
      ],
      "metadata": {
        "id": "l2qYyLNAdoKK"
      }
    },
    {
      "cell_type": "markdown",
      "source": [
        "### **Función Objetivo Base**"
      ],
      "metadata": {
        "id": "-IdhqUaaiavl"
      }
    },
    {
      "cell_type": "markdown",
      "source": [
        " $ \\begin{aligned}\n",
        "  min \\sum_{v \\in V} \\sum_{i \\in N} \\sum_{j \\in N} (Ct + Cm + \\frac{P_f}{R_v}) \\ \\ d_{ij} x_{ijv} + \\sum_{v \\in V} C_o δ_v  \\ \\ , \\ \\  i \\neq j, \\ δ_v = 1 \\  si \\ \\sum_{j \\in N} x_{0jv} > 0 \\end{aligned}$ es decir, si el vehículo $v$ realiza al menos una ruta."
      ],
      "metadata": {
        "id": "dlrRI5LiihV7"
      }
    },
    {
      "cell_type": "markdown",
      "source": [
        "## **Validación de la Formulación Base**"
      ],
      "metadata": {
        "id": "VPYtEgG_mxLp"
      }
    },
    {
      "cell_type": "markdown",
      "source": [
        "Para la validación de la formulación se utilizara un único centro de distribución (CD0), 3 clientes (C1, C2, C3) y 2 vehiculos (V1 y V2); dejando los conjuntos de la siguiente forma:\n",
        "\n",
        "$ N=\\{0,1,2,3\\},\\ C=\\{1,2,3\\},\\ V=\\{1,2\\}$\n",
        "\n",
        "Y los datos de demanda de clientes que se utilizaran son los siguentes:\n",
        "\n",
        "| Cliente | ( $q_i$ ) (kg) |\n",
        "| :-----: | :----------: |\n",
        "|    1    |      120     |\n",
        "|    2    |      80      |\n",
        "|    3    |      90      |\n",
        "\n",
        "Vehiculos:\n",
        "\n",
        "| Vehículo | Capacidad ( $Q_v$ ) (kg) | Autonomía ( $A_v$ ) (km) | Rendimiento ( $R_v$ ) (km/l) |\n",
        "| :------: | :--------------------: | :--------------------: | :------------------------: |\n",
        "|     1    |           200          |           300          |             10             |\n",
        "|     2    |           250          |           400          |              8             |\n",
        "\n",
        "Distancias:\n",
        "\n",
        "| De/A  |  0 |  1 |  2 |  3 |\n",
        "| :---- | -: | -: | -: | -: |\n",
        "| **0** |  - | 20 | 25 | 30 |\n",
        "| **1** | 20 |  - | 15 | 10 |\n",
        "| **2** | 25 | 15 |  - | 12 |\n",
        "| **3** | 30 | 10 | 12 |  - |\n",
        "\n",
        "Parámetros de Costos:\n",
        "\n",
        "| Parámetro | Descripción                    | Valor (COP) |\n",
        "| --------- | ------------------------------ | ----------- |\n",
        "| ( C_t )   | Costo por transporte (km)      | 3 000       |\n",
        "| ( C_m )   | Mantenimiento (km)             | 500         |\n",
        "| ( P_f )   | Precio del combustible (litro) | 12 000      |\n",
        "| ( C_o )   | Costo fijo por vehículo        | 50 000      |\n",
        "\n",
        "\n",
        "Para hacer la correcta validación se decidio implementar un código en pyomo que verifique el modelo base, empleando el solver GLPK:"
      ],
      "metadata": {
        "id": "04BTlNoZmzz_"
      }
    },
    {
      "cell_type": "code",
      "source": [
        "from pyomo.environ import *\n",
        "\n",
        "# Datos base\n",
        "N = [0, 1, 2, 3]\n",
        "C = [1, 2, 3]\n",
        "V = [1, 2]\n",
        "\n",
        "d = {\n",
        " (0,1):20,(0,2):25,(0,3):30,\n",
        " (1,0):20,(1,2):15,(1,3):10,\n",
        " (2,0):25,(2,1):15,(2,3):12,\n",
        " (3,0):30,(3,1):10,(3,2):12\n",
        "}\n",
        "\n",
        "Ct, Cm, Pf = 3000, 500, 12000\n",
        "Rv = {1:10, 2:8}\n",
        "Co = 50000\n",
        "Qv = {1:200, 2:250}\n",
        "Av = {1:300, 2:400}\n",
        "q  = {1:120, 2:80, 3:90}\n",
        "\n",
        "# Modelo\n",
        "model = ConcreteModel()\n",
        "model.v = Set(initialize=V)\n",
        "model.i = Set(initialize=N)\n",
        "model.j = Set(initialize=N)\n",
        "model.x = Var(V, N, N, within=Binary)\n",
        "model.delta = Var(V, within=Binary)\n",
        "model.l = Var(V, N, within=NonNegativeReals)\n",
        "\n",
        "# Restricciones\n",
        "\n",
        "# Cada cliente tiene exactamente una entrada\n",
        "def one_in_rule(m, i):\n",
        "    return sum(m.x[v,j,i] for v in V for j in N if j != i) == 1\n",
        "model.one_in = Constraint(C, rule=one_in_rule)\n",
        "\n",
        "# Cada cliente tiene exactamente una salida\n",
        "def one_out_rule(m, i):\n",
        "    return sum(m.x[v,i,j] for v in V for j in N if j != i) == 1\n",
        "model.one_out = Constraint(C, rule=one_out_rule)\n",
        "\n",
        "# Conservación de flujo por vehículo\n",
        "def flow_rule(m, v, i):\n",
        "    return sum(m.x[v,i,j] for j in N if j != i) - sum(m.x[v,j,i] for j in N if j != i) == 0\n",
        "model.flow = Constraint(V, N, rule=flow_rule)\n",
        "\n",
        "# Cada vehículo usado sale y retorna una vez del depósito\n",
        "def start_rule(m, v):\n",
        "    return sum(m.x[v,0,j] for j in N if j != 0) == m.delta[v]\n",
        "model.start = Constraint(V, rule=start_rule)\n",
        "\n",
        "def return_rule(m, v):\n",
        "    return sum(m.x[v,i,0] for i in N if i != 0) == m.delta[v]\n",
        "model.ret = Constraint(V, rule=return_rule)\n",
        "\n",
        "# Capacidad\n",
        "def capacity_rule(m, v):\n",
        "    return sum(q[i]*sum(m.x[v,i,j] for j in N if j != i) for i in C) <= Qv[v]\n",
        "model.cap = Constraint(V, rule=capacity_rule)\n",
        "\n",
        "# Autonomía\n",
        "def autonomy_rule(m, v):\n",
        "    return sum(d[i,j]*m.x[v,i,j] for i in N for j in N if i != j) <= Av[v]\n",
        "model.autonomy = Constraint(V, rule=autonomy_rule)\n",
        "\n",
        "# eliminar subrutas\n",
        "def load_balance_rule(m, v, i, j):\n",
        "    if i != j and i != 0 and j != 0:\n",
        "        return m.l[v,j] >= m.l[v,i] + q[j] - Qv[v]*(1 - m.x[v,i,j])\n",
        "    return Constraint.Skip\n",
        "model.load_balance = Constraint(V, N, N, rule=load_balance_rule)\n",
        "\n",
        "def load_limits_rule(m, v, i):\n",
        "    if i != 0:\n",
        "        return (q[i], m.l[v,i], Qv[v])\n",
        "    return Constraint.Skip\n",
        "model.load_limits = Constraint(V, N, rule=load_limits_rule)\n",
        "\n",
        "# Función objetivo\n",
        "def cost_rule(m):\n",
        "    return sum((Ct + Cm + Pf/Rv[v]) * d[i,j] * m.x[v,i,j]\n",
        "               for v in V for i in N for j in N if i != j) \\\n",
        "         + sum(Co * m.delta[v] for v in V)\n",
        "model.obj = Objective(rule=cost_rule, sense=minimize)\n",
        "\n",
        "\n",
        "\n",
        "# Resolver\n",
        "SolverFactory('glpk').solve(model, tee=False)\n",
        "print(f\"\\nCosto total óptimo: {value(model.obj):,.0f} COP\")\n",
        "\n",
        "# Mostrar resultados\n",
        "for v in V:\n",
        "    print(f\"\\nRutas del vehículo {v}:\")\n",
        "    for i in N:\n",
        "        for j in N:\n",
        "            if i != j and value(model.x[v,i,j]) > 0.5:\n",
        "                print(f\"  {i} -> {j}\")\n"
      ],
      "metadata": {
        "colab": {
          "base_uri": "https://localhost:8080/"
        },
        "id": "RA0T9YpCs_Dw",
        "outputId": "69df652f-1afe-4935-c0de-b4d7aa0e6e2c"
      },
      "execution_count": null,
      "outputs": [
        {
          "output_type": "stream",
          "name": "stdout",
          "text": [
            "\n",
            "Costo total óptimo: 614,900 COP\n",
            "\n",
            "Rutas del vehículo 1:\n",
            "  0 -> 2\n",
            "  2 -> 3\n",
            "  3 -> 0\n",
            "\n",
            "Rutas del vehículo 2:\n",
            "  0 -> 1\n",
            "  1 -> 0\n"
          ]
        }
      ]
    },
    {
      "cell_type": "markdown",
      "source": [
        "Los resultados obtenidos muestran un costo operativo total óptimo de 614.900 COP, con las rutas resultantes: el vehículo 1 realiza el recorrido de 0, 2, 3 y regresa al nodo 0, mientras que el vehículo 2 atiende al cliente 1 con la ruta 0, 1, y regresando al origen 0. Este comportamiento confirma que la formulación captura correctamente los aspectos fundamentales del ruteo vehicular, ya que cada cliente es atendido exactamente una vez, los vehículos respetan sus capacidades y autonomías, y las rutas se inician y terminan en el depósito. Además, la distribución de clientes entre los vehículos refleja un equilibrio lógico en función de las capacidades y costos operativos, demostrando que el modelo base permite representar adecuadamente el proceso de planificación de rutas en un sistema logístico multi-vehículo."
      ],
      "metadata": {
        "id": "a3VDrhP9w4XP"
      }
    },
    {
      "cell_type": "markdown",
      "source": [
        "# **Especialización del Proyecto**"
      ],
      "metadata": {
        "id": "7Xu-R_ugxfL2"
      }
    },
    {
      "cell_type": "markdown",
      "source": [
        "## **Análisis de Particularidades**"
      ],
      "metadata": {
        "id": "MTRlvjaux1R6"
      }
    },
    {
      "cell_type": "markdown",
      "source": [
        "La especialización del proyecto permite evidenciar las siguientes diferencia a comparación del proyecto base: en entornos metropolitanos como Bogotá, donde opera LogistiCo, factores como la congestión vehicular, las restricciones de acceso, la existencia de múltiples centros de distribución y la alta densidad de clientes hacen necesario extender el modelo base para representar adecuadamente la realidad operativa.\n",
        "\n",
        "En comparación con la formulación base, que considera un único centro de distribución, capacidades fijas y rutas con libre conexión entre nodos, el contexto urbano requiere incorporar múltiples centros de distribución con capacidades limitadas de almacenamiento y decisiones de asignación de inventario a cada centro. Asimismo, deben introducirse restricciones de acceso por tipo de vehículo, ya que ciertas zonas del centro urbano limitan la circulación de camiones pesados, mientras que otras solo permiten vehículos ligeros o eléctricos.\n",
        "\n",
        "Otra particularidad relevante es la congestión urbana, que afecta directamente los tiempos de recorrido y puede modelarse mediante parámetros de velocidad promedio variable o factores de penalización en el costo por kilómetro. Además, el modelo debe permitir la planificación de rutas multi-parada, en las que un mismo vehículo atiende varios clientes durante un mismo viaje, maximizando el aprovechamiento de su capacidad y reduciendo los desplazamientos vacíos.\n",
        "\n",
        "En términos de formulación matemática, estas particularidades implican la inclusión de nuevos conjuntos y parámetros, que pueden ser los siguientes:\n",
        "\n",
        "Un conjunto de centros de distribución ($D$) con capacidades de almacenamiento y ubicación geográfica;\n",
        "\n",
        "Un conjunto de tipos de vehículos ($T$) con restricciones de acceso y rendimientos diferenciados;\n",
        "\n",
        "Parámetros adicionales como los tiempos de viaje ajustados por congestión ($t_{ij}$) y los costos urbanos específicos ($Ft$, $Cm_{(u)}$, $C_e$).\n",
        "\n",
        "Finalmente, estas extensiones no solo buscan ajustar el modelo a un entorno más realista, sino también capturar decisiones estratégicas que son críticas para la logística urbana, como la selección del centro de distribución óptimo para cada cliente, la elección del tipo de vehículo adecuado y la priorización de rutas que minimicen la exposición al tráfico o las zonas restringidas."
      ],
      "metadata": {
        "id": "BkgRCqIOzF23"
      }
    },
    {
      "cell_type": "markdown",
      "source": [
        "# **Implementación y Análisis**"
      ],
      "metadata": {
        "id": "OhYRkpESxrJN"
      }
    }
  ]
}